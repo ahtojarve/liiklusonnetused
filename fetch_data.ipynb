{
 "cells": [
  {
   "cell_type": "code",
   "execution_count": 13,
   "metadata": {},
   "outputs": [],
   "source": [
    "import requests\n",
    "import csv\n",
    "import json"
   ]
  },
  {
   "attachments": {},
   "cell_type": "markdown",
   "metadata": {},
   "source": [
    "1. Download the incident data from https://avaandmed.eesti.ee/api/datasets/slug/inimkannatanutega-liiklusonnetuste-andmed"
   ]
  },
  {
   "cell_type": "code",
   "execution_count": 11,
   "metadata": {},
   "outputs": [
    {
     "name": "stdout",
     "output_type": "stream",
     "text": [
      "Error: 500 - {\"statusCode\":500,\"path\":\"/datasets/d43cbb24-f58f-4928-b7ed-1fcec2ef355b/files/fbe23705-fbde-4f0b-8823-134a4dd8c6ec?lang=et\",\"message\":\"Internal server error\"}\n"
     ]
    }
   ],
   "source": [
    "## SEE ON KA KATKI :) PRAEGU KÕIGE MÕISTLIKUM ALLA LAADIDA LIHTSALT KLIKKIDES (INTERNAL SERVER ERROR)\n",
    "# id and file_id are written here https://avaandmed.eesti.ee/api/datasets/slug/inimkannatanutega-liiklusonnetuste-andmed\n",
    "dataset_id = \"d43cbb24-f58f-4928-b7ed-1fcec2ef355b\"\n",
    "file_id = \"fbe23705-fbde-4f0b-8823-134a4dd8c6ec\"\n",
    "\n",
    "# Construct the API endpoint URL for downloading the file\n",
    "url = f\"https://avaandmed.eesti.ee/api/datasets/{dataset_id}/files/{file_id}?lang=et\"\n",
    "\n",
    "# Send GET request to the download URL\n",
    "response = requests.get(url)\n",
    "\n",
    "# Check if the request was successful\n",
    "if response.status_code == 200:\n",
    "    # Load the JSON response\n",
    "    data = json.loads(response.content)\n",
    "\n",
    "    # Extract the headers from the second level of the JSON data\n",
    "    headers = list(data.keys())\n",
    "\n",
    "    # Save the downloaded file as CSV\n",
    "    with open(\"liiklusonnetused_until_2022.csv\", \"w\", newline=\"\") as file:\n",
    "        writer = csv.writer(file)\n",
    "\n",
    "        # Write the header row\n",
    "        writer.writerow(headers)\n",
    "\n",
    "        # Write each row in the JSON data as a row in the CSV file\n",
    "        rows = data[headers[0]]\n",
    "        for row in rows:\n",
    "            writer.writerow(row.values())\n",
    "\n",
    "    print(\"File downloaded and saved as CSV successfully.\")\n",
    "else:\n",
    "    print(f\"Error: {response.status_code} - {response.text}\")"
   ]
  },
  {
   "cell_type": "code",
   "execution_count": 5,
   "metadata": {},
   "outputs": [
    {
     "name": "stdout",
     "output_type": "stream",
     "text": [
      "File downloaded successfully.\n"
     ]
    }
   ],
   "source": [
    "##SEE ON KUNI 2021, EI OLE VAJA JOOKSUTADA\n",
    "\n",
    "# dataset_id and file_id are written here https://avaandmed.eesti.ee/api/datasets/slug/inimkannatanutega-liiklusonnetuste-andmed\n",
    "dataset_id = \"d43cbb24-f58f-4928-b7ed-1fcec2ef355b\"\n",
    "file_id = \"df41ee16-c00b-4525-8c5f-50e256b8670f\"\n",
    "\n",
    "# Construct the API endpoint URL for downloading the file\n",
    "download_url = f\"https://avaandmed.eesti.ee/api/datasets/{dataset_id}/files/{file_id}/download\"\n",
    "\n",
    "# Send POST request to the download URL\n",
    "response = requests.post(download_url)\n",
    "\n",
    "# Check if the request was successful\n",
    "if response.status_code == 200:\n",
    "    # Save the downloaded file\n",
    "    with open(\"liiklusonnetused_until_2021.csv\", \"wb\") as file:\n",
    "        file.write(response.content)\n",
    "    print(\"File downloaded successfully.\")\n",
    "else:\n",
    "    print(f\"Error: {response.status_code} - {response.text}\")\n",
    "\n",
    "\n"
   ]
  },
  {
   "attachments": {},
   "cell_type": "markdown",
   "metadata": {},
   "source": [
    "2. Download the traffic DATA found here: https://avaandmed.eesti.ee/datasets/liiklusloenduse-andmed\n",
    "You"
   ]
  },
  {
   "cell_type": "code",
   "execution_count": 16,
   "metadata": {},
   "outputs": [
    {
     "name": "stdout",
     "output_type": "stream",
     "text": [
      "File ll_2020.csv downloaded successfully.\n",
      "File ll_2019.csv downloaded successfully.\n",
      "File ll_2021.csv downloaded successfully.\n",
      "File ll_2022.csv downloaded successfully.\n",
      "File ll_2018.csv downloaded successfully.\n",
      "File ll_2023.csv downloaded successfully.\n",
      "File ll_metadata.json downloaded successfully.\n"
     ]
    }
   ],
   "source": [
    "# Get detailed information about the dataset (including file ID-s)\n",
    "dataset_id = \"0a91b68d-1e04-479b-9957-bf61f3bdd89a\"\n",
    "\n",
    "# Construct the API endpoint URL for retrieving dataset details\n",
    "details_url = f\"https://avaandmed.eesti.ee/api/datasets/{dataset_id}\"\n",
    "\n",
    "# Send GET request to the download URL\n",
    "response = requests.get(details_url)\n",
    "data = response.json()\n",
    "\n",
    "# Check if the request was successful\n",
    "if response.status_code == 200:\n",
    "    # Extract the file IDs and names from the response\n",
    "    file_list = data[\"data\"][\"files\"]\n",
    "\n",
    "    # Create the directory if it doesn't exist\n",
    "    directory = \"liiklusonnetused\"\n",
    "    if not os.path.exists(directory):\n",
    "        os.makedirs(directory)\n",
    "        \n",
    "    # Download the files\n",
    "    for file_info in file_list:\n",
    "        file_id = file_info[\"id\"]\n",
    "        file_name = file_info[\"name\"]\n",
    "        # Construct the API endpoint URL for downloading the file\n",
    "        download_url = f\"https://avaandmed.eesti.ee/api/datasets/{dataset_id}/files/{file_id}/download\"\n",
    "        # Send POST request to the download URL\n",
    "        response = requests.post(download_url)\n",
    "        #save the file\n",
    "        with open(f\"liiklusonnetused/{file_name}\", \"wb\") as file:\n",
    "            file.write(response.content)\n",
    "            print(f\"File {file_name} downloaded successfully.\")\n",
    "else:\n",
    "    print(f\"Error: {response.status_code} - {response.text}\")"
   ]
  }
 ],
 "metadata": {
  "kernelspec": {
   "display_name": "Python 3",
   "language": "python",
   "name": "python3"
  },
  "language_info": {
   "codemirror_mode": {
    "name": "ipython",
    "version": 3
   },
   "file_extension": ".py",
   "mimetype": "text/x-python",
   "name": "python",
   "nbconvert_exporter": "python",
   "pygments_lexer": "ipython3",
   "version": "3.11.1"
  },
  "orig_nbformat": 4
 },
 "nbformat": 4,
 "nbformat_minor": 2
}
