{
 "cells": [
  {
   "attachments": {},
   "cell_type": "markdown",
   "metadata": {},
   "source": [
    "DATASET liiklusonnetused"
   ]
  },
  {
   "cell_type": "code",
   "execution_count": 24,
   "metadata": {},
   "outputs": [],
   "source": [
    "import pandas as pd\n",
    "import glob\n",
    "import sqlite3\n",
    "import csv\n",
    "import pyproj"
   ]
  },
  {
   "cell_type": "code",
   "execution_count": 10,
   "metadata": {},
   "outputs": [
    {
     "name": "stdout",
     "output_type": "stream",
     "text": [
      "Index(['Juhtumi nr', 'Toimumisaeg', 'Isikuid', 'Hukkunuid', 'Vigastatuid',\n",
      "       'Sõidukeid', 'Aadress (PPA)', 'Maja nr (PPA)', 'Tänav (PPA)',\n",
      "       'Ristuv tänav (PPA)', 'Maakond (PPA)', 'Omavalitsus (PPA)',\n",
      "       'Asustus (PPA)', 'Asula', 'Liiklusõnnetuse liik [1]',\n",
      "       'Liiklusõnnetuse liik [3]', 'Kergliikurijuhi osalusel',\n",
      "       'Jalakäija osalusel', 'Kaassõitja osalusel',\n",
      "       'Maastikusõiduki juhi osalusel',\n",
      "       'Eaka (65+) mootorsõidukijuhi osalusel', 'Bussijuhi osalusel',\n",
      "       'Veoautojuhi osalusel', 'Ühissõidukijuhi osalusel',\n",
      "       'Sõiduautojuhi osalusel', 'Mootorratturi osalusel',\n",
      "       'Mopeedijuhi osalusel', 'Jalgratturi osalusel', 'Alaealise osalusel',\n",
      "       'Turvavarustust mitte kasutanud isiku osalusel',\n",
      "       'Esmase juhiloa omaniku osalusel', 'Mootorsõidukijuhi osalusel',\n",
      "       'Tüüpskeemi nr', 'Tüüpskeem [2]', 'Tee tüüp [1]', 'Tee tüüp [2]',\n",
      "       'Tee element [1]', 'Tee element [2]', 'Tee objekt [2]', 'Kurvilisus',\n",
      "       'Tee tasasus', 'Tee seisund', 'Teekate', 'Teekatte seisund [2]',\n",
      "       'Sõiduradade arv', 'Lubatud sõidukiirus (PPA)', 'Tee nr (PPA)',\n",
      "       'Tee km (PPA)', 'Ilmastik [1]', 'Valgustus [1]', 'Valgustus [2]',\n",
      "       'GPS X', 'GPS Y'],\n",
      "      dtype='object')\n"
     ]
    }
   ],
   "source": [
    "df_original = pd.read_csv('liiklusonnetused_until_2021.csv')\n",
    "print(df_original.columns)"
   ]
  },
  {
   "cell_type": "code",
   "execution_count": 11,
   "metadata": {},
   "outputs": [
    {
     "name": "stdout",
     "output_type": "stream",
     "text": [
      "      Juhtumi nr       Toimumisaeg Asula          Liiklusõnnetuse liik [3]  \\\n",
      "0  2000140000057  24.10.2014 08:45   JAH            Kokkupõrge jalakäijaga   \n",
      "1  2000140000067  24.10.2014 13:45   JAH  Kokkupõrge ees liikuva sõidukiga   \n",
      "2  2000140000123           8/11/14   JAH  Kokkupõrge ees liikuva sõidukiga   \n",
      "3  2000140000235  17.11.2014 17:32    EI  Kokkupõrge vastutuleva sõidukiga   \n",
      "4  2000150000442  28.04.2015 07:55   JAH      Kokkupõrge sõidukiga küljelt   \n",
      "\n",
      "       GPS X     GPS Y  \n",
      "0  6588678.0  542647.0  \n",
      "1  6589522.0  541467.0  \n",
      "2  6593961.0  547646.0  \n",
      "3  6569324.0  516628.0  \n",
      "4  6586430.0  541953.0  \n"
     ]
    }
   ],
   "source": [
    "#Keeping only neccesary columns\n",
    "columns_to_keep = ['Juhtumi nr', 'Toimumisaeg', 'Asula', 'Liiklusõnnetuse liik [3]','GPS X', 'GPS Y']\n",
    "df_clean = df_original[columns_to_keep]\n",
    "print(df_clean.head())"
   ]
  },
  {
   "cell_type": "code",
   "execution_count": 12,
   "metadata": {},
   "outputs": [
    {
     "name": "stdout",
     "output_type": "stream",
     "text": [
      "      Juhtumi nr         Toimumisaeg Asula          Liiklusõnnetuse liik [3]  \\\n",
      "0  2000140000057 2014-10-24 08:45:00   JAH            Kokkupõrge jalakäijaga   \n",
      "1  2000140000067 2014-10-24 13:45:00   JAH  Kokkupõrge ees liikuva sõidukiga   \n",
      "3  2000140000235 2014-11-17 17:32:00    EI  Kokkupõrge vastutuleva sõidukiga   \n",
      "4  2000150000442 2015-04-28 07:55:00   JAH      Kokkupõrge sõidukiga küljelt   \n",
      "6  2210140001932 2014-10-24 14:00:00    EI  Kokkupõrge vastutuleva sõidukiga   \n",
      "\n",
      "       GPS X     GPS Y  Day  Month  Year  Hour  Minute  \n",
      "0  6588678.0  542647.0   24     10  2014     8      45  \n",
      "1  6589522.0  541467.0   24     10  2014    13      45  \n",
      "3  6569324.0  516628.0   17     11  2014    17      32  \n",
      "4  6586430.0  541953.0   28      4  2015     7      55  \n",
      "6  6575538.0  529034.0   24     10  2014    14       0  \n"
     ]
    },
    {
     "name": "stderr",
     "output_type": "stream",
     "text": [
      "C:\\Users\\jarve\\AppData\\Local\\Temp\\ipykernel_26468\\48742817.py:10: SettingWithCopyWarning: \n",
      "A value is trying to be set on a copy of a slice from a DataFrame.\n",
      "Try using .loc[row_indexer,col_indexer] = value instead\n",
      "\n",
      "See the caveats in the documentation: https://pandas.pydata.org/pandas-docs/stable/user_guide/indexing.html#returning-a-view-versus-a-copy\n",
      "  df_clean['Toimumisaeg'] = pd.to_datetime(df_clean['Toimumisaeg'], dayfirst=True)\n",
      "C:\\Users\\jarve\\AppData\\Local\\Temp\\ipykernel_26468\\48742817.py:15: SettingWithCopyWarning: \n",
      "A value is trying to be set on a copy of a slice from a DataFrame.\n",
      "Try using .loc[row_indexer,col_indexer] = value instead\n",
      "\n",
      "See the caveats in the documentation: https://pandas.pydata.org/pandas-docs/stable/user_guide/indexing.html#returning-a-view-versus-a-copy\n",
      "  df_clean.loc[:, 'Day'] = df_clean['Toimumisaeg'].dt.day\n",
      "C:\\Users\\jarve\\AppData\\Local\\Temp\\ipykernel_26468\\48742817.py:16: SettingWithCopyWarning: \n",
      "A value is trying to be set on a copy of a slice from a DataFrame.\n",
      "Try using .loc[row_indexer,col_indexer] = value instead\n",
      "\n",
      "See the caveats in the documentation: https://pandas.pydata.org/pandas-docs/stable/user_guide/indexing.html#returning-a-view-versus-a-copy\n",
      "  df_clean.loc[:, 'Month'] = df_clean['Toimumisaeg'].dt.month\n",
      "C:\\Users\\jarve\\AppData\\Local\\Temp\\ipykernel_26468\\48742817.py:17: SettingWithCopyWarning: \n",
      "A value is trying to be set on a copy of a slice from a DataFrame.\n",
      "Try using .loc[row_indexer,col_indexer] = value instead\n",
      "\n",
      "See the caveats in the documentation: https://pandas.pydata.org/pandas-docs/stable/user_guide/indexing.html#returning-a-view-versus-a-copy\n",
      "  df_clean.loc[:, 'Year'] = df_clean['Toimumisaeg'].dt.year\n",
      "C:\\Users\\jarve\\AppData\\Local\\Temp\\ipykernel_26468\\48742817.py:18: SettingWithCopyWarning: \n",
      "A value is trying to be set on a copy of a slice from a DataFrame.\n",
      "Try using .loc[row_indexer,col_indexer] = value instead\n",
      "\n",
      "See the caveats in the documentation: https://pandas.pydata.org/pandas-docs/stable/user_guide/indexing.html#returning-a-view-versus-a-copy\n",
      "  df_clean.loc[:, 'Hour'] = df_clean['Toimumisaeg'].dt.hour\n",
      "C:\\Users\\jarve\\AppData\\Local\\Temp\\ipykernel_26468\\48742817.py:19: SettingWithCopyWarning: \n",
      "A value is trying to be set on a copy of a slice from a DataFrame.\n",
      "Try using .loc[row_indexer,col_indexer] = value instead\n",
      "\n",
      "See the caveats in the documentation: https://pandas.pydata.org/pandas-docs/stable/user_guide/indexing.html#returning-a-view-versus-a-copy\n",
      "  df_clean.loc[:, 'Minute'] = df_clean['Toimumisaeg'].dt.minute\n"
     ]
    }
   ],
   "source": [
    "#Delete all rows that does not have time\n",
    "num_rows = df_clean.shape[0]\n",
    "df_clean = df_clean[~df_clean['Toimumisaeg'].str.contains(r'\\d+/\\d+/\\d{2}')]\n",
    "num_rows_new = df_clean.shape[0]\n",
    "#print(df_clean.head())\n",
    "#print(num_rows) \n",
    "#print(num_rows_new) #15702 rows originally and now 9322, its almost half the data :(\n",
    "\n",
    "# Convert \"Toimumisaeg\" column to datetime format\n",
    "df_clean['Toimumisaeg'] = pd.to_datetime(df_clean['Toimumisaeg'], dayfirst=True)\n",
    "#print(df_clean.head())\n",
    "\n",
    "# Extract day, month, year, hour, and minute into separate columns\n",
    "df_clean.loc[:, 'Toimumisaeg'] = pd.to_datetime(df_clean['Toimumisaeg'], dayfirst=True)\n",
    "df_clean.loc[:, 'Day'] = df_clean['Toimumisaeg'].dt.day\n",
    "df_clean.loc[:, 'Month'] = df_clean['Toimumisaeg'].dt.month\n",
    "df_clean.loc[:, 'Year'] = df_clean['Toimumisaeg'].dt.year\n",
    "df_clean.loc[:, 'Hour'] = df_clean['Toimumisaeg'].dt.hour\n",
    "df_clean.loc[:, 'Minute'] = df_clean['Toimumisaeg'].dt.minute\n",
    "\n",
    "\n",
    "print(df_clean.head())"
   ]
  },
  {
   "cell_type": "code",
   "execution_count": 27,
   "metadata": {},
   "outputs": [
    {
     "name": "stdout",
     "output_type": "stream",
     "text": [
      "      Juhtumi_nr         Toimumisaeg Asula              Liiklusonnetuse_liik  \\\n",
      "0  2000140000057 2014-10-24 08:45:00   JAH            Kokkupõrge jalakäijaga   \n",
      "1  2000140000067 2014-10-24 13:45:00   JAH  Kokkupõrge ees liikuva sõidukiga   \n",
      "3  2000140000235 2014-11-17 17:32:00    EI  Kokkupõrge vastutuleva sõidukiga   \n",
      "4  2000150000442 2015-04-28 07:55:00   JAH      Kokkupõrge sõidukiga küljelt   \n",
      "6  2210140001932 2014-10-24 14:00:00    EI  Kokkupõrge vastutuleva sõidukiga   \n",
      "\n",
      "       GPS_X     GPS_Y  Day  Month  Year  Hour  Minute  \n",
      "0  6588678.0  542647.0   24     10  2014     8      45  \n",
      "1  6589522.0  541467.0   24     10  2014    13      45  \n",
      "3  6569324.0  516628.0   17     11  2014    17      32  \n",
      "4  6586430.0  541953.0   28      4  2015     7      55  \n",
      "6  6575538.0  529034.0   24     10  2014    14       0  \n"
     ]
    }
   ],
   "source": [
    "#CHANGING COLUMN NAMES\n",
    "\n",
    "# Create a dictionary to map the old column names to the new column names\n",
    "column_mapping = {\n",
    "    'Juhtumi nr': 'Juhtumi_nr',\n",
    "    'Liiklusõnnetuse liik [3]': 'Liiklusonnetuse_liik',\n",
    "    'GPS X': 'GPS_X',\n",
    "    'GPS Y': 'GPS_Y',\n",
    "}\n",
    "\n",
    "# Use the 'rename()' method to change the column names\n",
    "df_clean = df_clean.rename(columns=column_mapping)\n",
    "\n",
    "# Print the modified DataFrame with the new column names\n",
    "print(df_clean.head())"
   ]
  },
  {
   "cell_type": "code",
   "execution_count": 18,
   "metadata": {},
   "outputs": [
    {
     "name": "stdout",
     "output_type": "stream",
     "text": [
      "Juhtumi_nr              0\n",
      "Toimumisaeg             0\n",
      "Asula                   0\n",
      "Liiklusonnetuse_liik    0\n",
      "GPS X                   0\n",
      "GPS Y                   0\n",
      "Day                     0\n",
      "Month                   0\n",
      "Year                    0\n",
      "Hour                    0\n",
      "Minute                  0\n",
      "dtype: int64\n"
     ]
    }
   ],
   "source": [
    "#MISSING VALUES\n",
    "# Check for missing values in the DataFrame\n",
    "missing_values = df_clean.isnull()\n",
    "\n",
    "missing_counts = df_clean.isnull().sum()\n",
    "print(missing_counts) #1273-l real ei ole GPS koordinaate"
   ]
  },
  {
   "cell_type": "code",
   "execution_count": 17,
   "metadata": {},
   "outputs": [
    {
     "name": "stdout",
     "output_type": "stream",
     "text": [
      "(8045, 11)\n"
     ]
    }
   ],
   "source": [
    "#DELETING ROWS WITH MISSING GPS COORDINATES\n",
    "df_clean.dropna(subset=['GPS X'], inplace=True)\n",
    "df_clean.dropna(subset=['GPS Y'], inplace=True)\n",
    "print(df_clean.shape)  #Alles on 8049 rida\n"
   ]
  },
  {
   "cell_type": "code",
   "execution_count": 22,
   "metadata": {},
   "outputs": [
    {
     "name": "stdout",
     "output_type": "stream",
     "text": [
      "Liiklusonnetuse_liik\n",
      "Kokkupõrge jalakäijaga               2162\n",
      "Kokkupõrge sõidukiga küljelt         1814\n",
      "Sõiduki teelt väljasõit              1314\n",
      "Kokkupõrge vastutuleva sõidukiga      690\n",
      "Kokkupõrge ees liikuva sõidukiga      635\n",
      "Sõiduki ümberpaiskumine teel          632\n",
      "Kokkupõrge teevälise takistusega      567\n",
      "Muu liiklusõnnetus                    431\n",
      "Kokkupõrge ees seisva sõidukiga       361\n",
      "Kukkumine ühissõidukis                303\n",
      "Sõidukite külgkokkupõrge              174\n",
      "Kokkupõrge loomaga                    112\n",
      "Kokkupõrge teel oleva takistusega      74\n",
      "Teadmata                               53\n",
      "Name: count, dtype: int64\n"
     ]
    }
   ],
   "source": [
    "#LIIKLUSONNETUSE LIIK VALUES\n",
    "\n",
    "# Get the unique values and their counts in the 'Liiklusonnetuse_liik' column\n",
    "value_counts = df_clean['Liiklusonnetuse_liik'].value_counts()\n",
    "\n",
    "# Print the unique values and their counts\n",
    "print(value_counts)"
   ]
  },
  {
   "cell_type": "code",
   "execution_count": 39,
   "metadata": {},
   "outputs": [],
   "source": [
    "#CONVERT COORDINATES TO LATITUDE AND LONGITUDE\n",
    "\n",
    "\n",
    "# Create a transformer\n",
    "transformer = pyproj.Transformer.from_crs(\"EPSG:3301\", \"EPSG:4326\")\n",
    "\n",
    "# Convert coordinates to latitude and longitude\n",
    "df_clean[['Longitude', 'Latitude']] = df_clean.apply(lambda row: pd.Series(transformer.transform(row['GPS_X'], row['GPS_Y'])), axis=1)\n",
    "\n"
   ]
  },
  {
   "cell_type": "code",
   "execution_count": 40,
   "metadata": {},
   "outputs": [
    {
     "name": "stdout",
     "output_type": "stream",
     "text": [
      "      Juhtumi_nr         Toimumisaeg Asula              Liiklusonnetuse_liik  \\\n",
      "0  2000140000057 2014-10-24 08:45:00   JAH            Kokkupõrge jalakäijaga   \n",
      "1  2000140000067 2014-10-24 13:45:00   JAH  Kokkupõrge ees liikuva sõidukiga   \n",
      "3  2000140000235 2014-11-17 17:32:00    EI  Kokkupõrge vastutuleva sõidukiga   \n",
      "4  2000150000442 2015-04-28 07:55:00   JAH      Kokkupõrge sõidukiga küljelt   \n",
      "6  2210140001932 2014-10-24 14:00:00    EI  Kokkupõrge vastutuleva sõidukiga   \n",
      "\n",
      "       GPS_X     GPS_Y  Day  Month  Year  Hour  Minute  Longitude   Latitude  \n",
      "0  6588678.0  542647.0   24     10  2014     8      45  59.433796  24.751479  \n",
      "1  6589522.0  541467.0   24     10  2014    13      45  59.441488  24.730850  \n",
      "3  6569324.0  516628.0   17     11  2014    17      32  59.261884  24.291529  \n",
      "4  6586430.0  541953.0   28      4  2015     7      55  59.413688  24.738815  \n",
      "6  6575538.0  529034.0   24     10  2014    14       0  59.316999  24.509857  \n"
     ]
    }
   ],
   "source": [
    "print(df_clean.head())"
   ]
  },
  {
   "cell_type": "code",
   "execution_count": 41,
   "metadata": {},
   "outputs": [],
   "source": [
    "\n",
    "#CREATING a table INTO DATABASE\n",
    "\n",
    "# Connect to the SQLite database\n",
    "conn = sqlite3.connect('database.db')\n",
    "\n",
    "# Create a cursor object to execute SQL statements\n",
    "cursor = conn.cursor()\n",
    "\n",
    "# Define the CREATE TABLE statement\n",
    "create_table_query = '''\n",
    "CREATE TABLE IF NOT EXISTS liiklusonnetus (\n",
    "Juhtumi_nr INTEGER,\n",
    "Toimumisaeg TEXT,\n",
    "Asula TEXT,\n",
    "Liiklusonnetuse_liik TEXT,\n",
    "GPS_X REAL,\n",
    "GPS_Y REAL,\n",
    "Day INTEGER,\n",
    "Month INTEGER,\n",
    "Year INTEGER,\n",
    "Hour INTEGER,\n",
    "Minute INTEGER,\n",
    "Longitude REAL,\n",
    "Latitude REAL\n",
    ");\n",
    "'''\n",
    "cursor.execute(create_table_query)\n",
    "\n",
    "conn.commit()\n",
    "cursor.close()\n",
    "conn.close()"
   ]
  },
  {
   "cell_type": "code",
   "execution_count": 43,
   "metadata": {},
   "outputs": [],
   "source": [
    "# Connect to the SQLite database\n",
    "conn = sqlite3.connect('database.db')\n",
    "\n",
    "# Write dataframe to the table in the database\n",
    "df_clean.to_sql('liiklusonnetus', conn, if_exists='append', index=False)\n",
    "\n",
    "# Close the connection\n",
    "conn.close()"
   ]
  },
  {
   "attachments": {},
   "cell_type": "markdown",
   "metadata": {},
   "source": [
    "DATASET liiklusloendus"
   ]
  },
  {
   "cell_type": "code",
   "execution_count": 3,
   "metadata": {},
   "outputs": [
    {
     "name": "stderr",
     "output_type": "stream",
     "text": [
      "C:\\Users\\jarve\\AppData\\Local\\Temp\\ipykernel_26468\\89240639.py:20: DtypeWarning: Columns (10) have mixed types. Specify dtype option on import or set low_memory=False.\n",
      "  df_liiklus = pd.read_csv(file)\n",
      "C:\\Users\\jarve\\AppData\\Local\\Temp\\ipykernel_26468\\89240639.py:20: DtypeWarning: Columns (10) have mixed types. Specify dtype option on import or set low_memory=False.\n",
      "  df_liiklus = pd.read_csv(file)\n",
      "C:\\Users\\jarve\\AppData\\Local\\Temp\\ipykernel_26468\\89240639.py:20: DtypeWarning: Columns (10) have mixed types. Specify dtype option on import or set low_memory=False.\n",
      "  df_liiklus = pd.read_csv(file)\n"
     ]
    }
   ],
   "source": [
    "#CHANGE COLUMN NAMES IN ALL CSV FILES in A FOLDER\n",
    "# Create a dictionary to map the old column names to the new column names\n",
    "column_mapping = {\n",
    "    '1': 'Motorcycle',\n",
    "    '2': 'Car',\n",
    "    '3': 'Car+Trailer',\n",
    "    '4': 'Heavy_Van',\n",
    "    '5': 'Light_Goods',\n",
    "    '6': 'Truck',\n",
    "    '7': 'Truck+Trailer',\n",
    "    '8': 'Articulated_Vehicle',\n",
    "    '9': 'Minibus',\n",
    "    '10': 'Bus',\n",
    "}\n",
    "\n",
    "folder_path = 'liiklusloendus'\n",
    "\n",
    "file_paths = glob.glob(folder_path + '/*.csv')  # Get all CSV file paths in the folder\n",
    "\n",
    "for file in file_paths:\n",
    "    df_liiklus = pd.read_csv(file)\n",
    "    df_liiklus.rename(columns=column_mapping, inplace=True)\n",
    "    df_liiklus.to_csv(file, index=Fa)\n"
   ]
  },
  {
   "cell_type": "code",
   "execution_count": 4,
   "metadata": {},
   "outputs": [],
   "source": [
    "#CREATING A TABLE INTO DATABASE\n",
    "\n",
    "# Connect to the SQLite database\n",
    "conn = sqlite3.connect('database.db')\n",
    "\n",
    "# Create a cursor object to execute SQL statements\n",
    "cursor = conn.cursor()\n",
    "\n",
    "# Define the CREATE TABLE statement\n",
    "create_table_query = '''\n",
    "CREATE TABLE IF NOT EXISTS liiklusloendus (\n",
    "id INTEGER PRIMARY KEY AUTOINCREMENT,\n",
    "Motorcycle INTEGER,\n",
    "Car INTEGER,\n",
    "Car_Plus_Trailer INTEGER,\n",
    "Heavy_Van INTEGER,\n",
    "Light_Goods INTEGER,\n",
    "Truck INTEGER,\n",
    "Truck_Plus_Trailer INTEGER,\n",
    "Articulated_Vehicle INTEGER,\n",
    "Minibus INTEGER,\n",
    "Bus INTEGER,\n",
    "liiklusloend_id TEXT,\n",
    "Kanal INTEGER,\n",
    "Aeg TEXT,\n",
    "\"less40\" INTEGER,\n",
    "\"40to50\" INTEGER,\n",
    "\"50to60\" INTEGER,\n",
    "\"60to70\" INTEGER,\n",
    "\"70to80\" INTEGER,\n",
    "\"80to90\" INTEGER,\n",
    "\"90to100\" INTEGER,\n",
    "\"100to110\" INTEGER,\n",
    "\"110to120\" INTEGER,\n",
    "\"120to130\" INTEGER,\n",
    "\"more130\" INTEGER\n",
    ");\n",
    "'''\n",
    "cursor.execute(create_table_query)\n",
    "\n",
    "conn.commit()\n",
    "cursor.close()\n",
    "conn.close()"
   ]
  },
  {
   "cell_type": "code",
   "execution_count": 8,
   "metadata": {},
   "outputs": [],
   "source": [
    "#WRITING ALL VALUES FROM CSV FILES INTO DATABASE\n",
    "\n",
    "conn = sqlite3.connect('database.db')\n",
    "cursor = conn.cursor()\n",
    "\n",
    "folder_path = 'liiklusloendus'\n",
    "\n",
    "file_paths = glob.glob(folder_path + '/*.csv')  # Get all CSV file paths in the folder\n",
    "\n",
    "for file in file_paths:\n",
    "    with open(file, 'r') as fail:\n",
    "        csv_reader = csv.reader(fail)\n",
    "        next(csv_reader) #skip the header row\n",
    "\n",
    "        for row in csv_reader:\n",
    "            cursor.execute(\"INSERT INTO liiklusloendus VALUES (NULL,?, ?, ?, ?, ?, ?, ?, ?, ?, ?, ?, ?, ?, ?, ?, ?, ?, ?, ?, ?, ?, ?, ?, ?)\", row)\n",
    "\n",
    "conn.commit()\n",
    "conn.close()"
   ]
  }
 ],
 "metadata": {
  "kernelspec": {
   "display_name": "Python 3",
   "language": "python",
   "name": "python3"
  },
  "language_info": {
   "codemirror_mode": {
    "name": "ipython",
    "version": 3
   },
   "file_extension": ".py",
   "mimetype": "text/x-python",
   "name": "python",
   "nbconvert_exporter": "python",
   "pygments_lexer": "ipython3",
   "version": "3.11.1"
  },
  "orig_nbformat": 4
 },
 "nbformat": 4,
 "nbformat_minor": 2
}
