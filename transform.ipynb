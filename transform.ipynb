{
 "cells": [
  {
   "attachments": {},
   "cell_type": "markdown",
   "metadata": {},
   "source": [
    "DATASET liiklusonnetused"
   ]
  },
  {
   "cell_type": "code",
   "execution_count": 2,
   "metadata": {},
   "outputs": [],
   "source": [
    "import pandas as pd"
   ]
  },
  {
   "cell_type": "code",
   "execution_count": 4,
   "metadata": {},
   "outputs": [
    {
     "name": "stdout",
     "output_type": "stream",
     "text": [
      "Index(['Juhtumi nr', 'Toimumisaeg', 'Isikuid', 'Hukkunuid', 'Vigastatuid',\n",
      "       'Sõidukeid', 'Aadress (PPA)', 'Maja nr (PPA)', 'Tänav (PPA)',\n",
      "       'Ristuv tänav (PPA)', 'Maakond (PPA)', 'Omavalitsus (PPA)',\n",
      "       'Asustus (PPA)', 'Asula', 'Liiklusõnnetuse liik [1]',\n",
      "       'Liiklusõnnetuse liik [3]', 'Kergliikurijuhi osalusel',\n",
      "       'Jalakäija osalusel', 'Kaassõitja osalusel',\n",
      "       'Maastikusõiduki juhi osalusel',\n",
      "       'Eaka (65+) mootorsõidukijuhi osalusel', 'Bussijuhi osalusel',\n",
      "       'Veoautojuhi osalusel', 'Ühissõidukijuhi osalusel',\n",
      "       'Sõiduautojuhi osalusel', 'Mootorratturi osalusel',\n",
      "       'Mopeedijuhi osalusel', 'Jalgratturi osalusel', 'Alaealise osalusel',\n",
      "       'Turvavarustust mitte kasutanud isiku osalusel',\n",
      "       'Esmase juhiloa omaniku osalusel', 'Mootorsõidukijuhi osalusel',\n",
      "       'Tüüpskeemi nr', 'Tüüpskeem [2]', 'Tee tüüp [1]', 'Tee tüüp [2]',\n",
      "       'Tee element [1]', 'Tee element [2]', 'Tee objekt [2]', 'Kurvilisus',\n",
      "       'Tee tasasus', 'Tee seisund', 'Teekate', 'Teekatte seisund [2]',\n",
      "       'Sõiduradade arv', 'Lubatud sõidukiirus (PPA)', 'Tee nr (PPA)',\n",
      "       'Tee km (PPA)', 'Ilmastik [1]', 'Valgustus [1]', 'Valgustus [2]',\n",
      "       'GPS X', 'GPS Y'],\n",
      "      dtype='object')\n"
     ]
    }
   ],
   "source": [
    "df_original = pd.read_csv('liiklusonnetused_until_2021.csv')\n",
    "print(df_original.columns)"
   ]
  },
  {
   "cell_type": "code",
   "execution_count": 5,
   "metadata": {},
   "outputs": [
    {
     "name": "stdout",
     "output_type": "stream",
     "text": [
      "      Juhtumi nr       Toimumisaeg Asula          Liiklusõnnetuse liik [3]  \\\n",
      "0  2000140000057  24.10.2014 08:45   JAH            Kokkupõrge jalakäijaga   \n",
      "1  2000140000067  24.10.2014 13:45   JAH  Kokkupõrge ees liikuva sõidukiga   \n",
      "2  2000140000123           8/11/14   JAH  Kokkupõrge ees liikuva sõidukiga   \n",
      "3  2000140000235  17.11.2014 17:32    EI  Kokkupõrge vastutuleva sõidukiga   \n",
      "4  2000150000442  28.04.2015 07:55   JAH      Kokkupõrge sõidukiga küljelt   \n",
      "\n",
      "       GPS X     GPS Y  \n",
      "0  6588678.0  542647.0  \n",
      "1  6589522.0  541467.0  \n",
      "2  6593961.0  547646.0  \n",
      "3  6569324.0  516628.0  \n",
      "4  6586430.0  541953.0  \n"
     ]
    }
   ],
   "source": [
    "#Keeping only neccesary columns\n",
    "columns_to_keep = ['Juhtumi nr', 'Toimumisaeg', 'Asula', 'Liiklusõnnetuse liik [3]','GPS X', 'GPS Y']\n",
    "df = df_original[columns_to_keep]\n",
    "print(df.head())"
   ]
  },
  {
   "cell_type": "code",
   "execution_count": 15,
   "metadata": {},
   "outputs": [
    {
     "name": "stdout",
     "output_type": "stream",
     "text": [
      "      Juhtumi nr         Toimumisaeg Asula          Liiklusõnnetuse liik [3]  \\\n",
      "0  2000140000057 2014-10-24 08:45:00   JAH            Kokkupõrge jalakäijaga   \n",
      "1  2000140000067 2014-10-24 13:45:00   JAH  Kokkupõrge ees liikuva sõidukiga   \n",
      "3  2000140000235 2014-11-17 17:32:00    EI  Kokkupõrge vastutuleva sõidukiga   \n",
      "4  2000150000442 2015-04-28 07:55:00   JAH      Kokkupõrge sõidukiga küljelt   \n",
      "6  2210140001932 2014-10-24 14:00:00    EI  Kokkupõrge vastutuleva sõidukiga   \n",
      "\n",
      "       GPS X     GPS Y  Day  Month  Year  Hour  Minute  \n",
      "0  6588678.0  542647.0   24     10  2014     8      45  \n",
      "1  6589522.0  541467.0   24     10  2014    13      45  \n",
      "3  6569324.0  516628.0   17     11  2014    17      32  \n",
      "4  6586430.0  541953.0   28      4  2015     7      55  \n",
      "6  6575538.0  529034.0   24     10  2014    14       0  \n"
     ]
    },
    {
     "name": "stderr",
     "output_type": "stream",
     "text": [
      "C:\\Users\\jarve\\AppData\\Local\\Temp\\ipykernel_12848\\3039620202.py:10: SettingWithCopyWarning: \n",
      "A value is trying to be set on a copy of a slice from a DataFrame.\n",
      "Try using .loc[row_indexer,col_indexer] = value instead\n",
      "\n",
      "See the caveats in the documentation: https://pandas.pydata.org/pandas-docs/stable/user_guide/indexing.html#returning-a-view-versus-a-copy\n",
      "  df_clean['Toimumisaeg'] = pd.to_datetime(df_clean['Toimumisaeg'], dayfirst=True)\n",
      "C:\\Users\\jarve\\AppData\\Local\\Temp\\ipykernel_12848\\3039620202.py:14: SettingWithCopyWarning: \n",
      "A value is trying to be set on a copy of a slice from a DataFrame.\n",
      "Try using .loc[row_indexer,col_indexer] = value instead\n",
      "\n",
      "See the caveats in the documentation: https://pandas.pydata.org/pandas-docs/stable/user_guide/indexing.html#returning-a-view-versus-a-copy\n",
      "  df_clean['Day'] = df_clean['Toimumisaeg'].dt.day\n",
      "C:\\Users\\jarve\\AppData\\Local\\Temp\\ipykernel_12848\\3039620202.py:15: SettingWithCopyWarning: \n",
      "A value is trying to be set on a copy of a slice from a DataFrame.\n",
      "Try using .loc[row_indexer,col_indexer] = value instead\n",
      "\n",
      "See the caveats in the documentation: https://pandas.pydata.org/pandas-docs/stable/user_guide/indexing.html#returning-a-view-versus-a-copy\n",
      "  df_clean['Month'] = df_clean['Toimumisaeg'].dt.month\n",
      "C:\\Users\\jarve\\AppData\\Local\\Temp\\ipykernel_12848\\3039620202.py:16: SettingWithCopyWarning: \n",
      "A value is trying to be set on a copy of a slice from a DataFrame.\n",
      "Try using .loc[row_indexer,col_indexer] = value instead\n",
      "\n",
      "See the caveats in the documentation: https://pandas.pydata.org/pandas-docs/stable/user_guide/indexing.html#returning-a-view-versus-a-copy\n",
      "  df_clean['Year'] = df_clean['Toimumisaeg'].dt.year\n",
      "C:\\Users\\jarve\\AppData\\Local\\Temp\\ipykernel_12848\\3039620202.py:17: SettingWithCopyWarning: \n",
      "A value is trying to be set on a copy of a slice from a DataFrame.\n",
      "Try using .loc[row_indexer,col_indexer] = value instead\n",
      "\n",
      "See the caveats in the documentation: https://pandas.pydata.org/pandas-docs/stable/user_guide/indexing.html#returning-a-view-versus-a-copy\n",
      "  df_clean['Hour'] = df_clean['Toimumisaeg'].dt.hour\n",
      "C:\\Users\\jarve\\AppData\\Local\\Temp\\ipykernel_12848\\3039620202.py:18: SettingWithCopyWarning: \n",
      "A value is trying to be set on a copy of a slice from a DataFrame.\n",
      "Try using .loc[row_indexer,col_indexer] = value instead\n",
      "\n",
      "See the caveats in the documentation: https://pandas.pydata.org/pandas-docs/stable/user_guide/indexing.html#returning-a-view-versus-a-copy\n",
      "  df_clean['Minute'] = df_clean['Toimumisaeg'].dt.minute\n"
     ]
    }
   ],
   "source": [
    "#Delete all rows that does not have time\n",
    "num_rows = df.shape[0]\n",
    "df_clean = df[~df['Toimumisaeg'].str.contains(r'\\d+/\\d+/\\d{2}')]\n",
    "num_rows_new = df_clean.shape[0]\n",
    "#print(df_clean.head())\n",
    "#print(num_rows) \n",
    "#print(num_rows_new) #15702 rows originally and now 9322, its almost half the data :(\n",
    "\n",
    "# Convert \"Toimumisaeg\" column to datetime format\n",
    "df_clean['Toimumisaeg'] = pd.to_datetime(df_clean['Toimumisaeg'], dayfirst=True)\n",
    "#print(df_clean.head())\n",
    "\n",
    "# Extract day, month, year, hour, and minute into separate columns\n",
    "df_clean['Day'] = df_clean['Toimumisaeg'].dt.day\n",
    "df_clean['Month'] = df_clean['Toimumisaeg'].dt.month\n",
    "df_clean['Year'] = df_clean['Toimumisaeg'].dt.year\n",
    "df_clean['Hour'] = df_clean['Toimumisaeg'].dt.hour\n",
    "df_clean['Minute'] = df_clean['Toimumisaeg'].dt.minute\n",
    "\n",
    "print(df_clean.head())"
   ]
  },
  {
   "cell_type": "code",
   "execution_count": 16,
   "metadata": {},
   "outputs": [
    {
     "name": "stdout",
     "output_type": "stream",
     "text": [
      "      Juhtumi_nr         Toimumisaeg Asula              Liiklusonnetuse_liik  \\\n",
      "0  2000140000057 2014-10-24 08:45:00   JAH            Kokkupõrge jalakäijaga   \n",
      "1  2000140000067 2014-10-24 13:45:00   JAH  Kokkupõrge ees liikuva sõidukiga   \n",
      "3  2000140000235 2014-11-17 17:32:00    EI  Kokkupõrge vastutuleva sõidukiga   \n",
      "4  2000150000442 2015-04-28 07:55:00   JAH      Kokkupõrge sõidukiga küljelt   \n",
      "6  2210140001932 2014-10-24 14:00:00    EI  Kokkupõrge vastutuleva sõidukiga   \n",
      "\n",
      "       GPS X     GPS Y  Day  Month  Year  Hour  Minute  \n",
      "0  6588678.0  542647.0   24     10  2014     8      45  \n",
      "1  6589522.0  541467.0   24     10  2014    13      45  \n",
      "3  6569324.0  516628.0   17     11  2014    17      32  \n",
      "4  6586430.0  541953.0   28      4  2015     7      55  \n",
      "6  6575538.0  529034.0   24     10  2014    14       0  \n"
     ]
    }
   ],
   "source": [
    "#CHANGING COLUMN NAMES\n",
    "\n",
    "# Create a dictionary to map the old column names to the new column names\n",
    "column_mapping = {\n",
    "    'Juhtumi nr': 'Juhtumi_nr',\n",
    "    'Liiklusõnnetuse liik [3]': 'Liiklusonnetuse_liik',\n",
    "}\n",
    "\n",
    "# Use the 'rename()' method to change the column names\n",
    "df_clean = df_clean.rename(columns=column_mapping)\n",
    "\n",
    "# Print the modified DataFrame with the new column names\n",
    "print(df_clean.head())"
   ]
  },
  {
   "cell_type": "code",
   "execution_count": 18,
   "metadata": {},
   "outputs": [
    {
     "name": "stdout",
     "output_type": "stream",
     "text": [
      "Juhtumi nr                     0\n",
      "Toimumisaeg                    0\n",
      "Asula                          0\n",
      "Liiklusõnnetuse liik [3]       0\n",
      "GPS X                       2244\n",
      "GPS Y                       2249\n",
      "dtype: int64\n"
     ]
    }
   ],
   "source": [
    "#MISSING VALUES\n",
    "# Check for missing values in the DataFrame\n",
    "missing_values = df_clean.isnull()\n",
    "\n",
    "missing_counts = df.isnull().sum()\n",
    "print(missing_counts) #2244-l real ei ole GPS koordinaate"
   ]
  }
 ],
 "metadata": {
  "kernelspec": {
   "display_name": "Python 3",
   "language": "python",
   "name": "python3"
  },
  "language_info": {
   "codemirror_mode": {
    "name": "ipython",
    "version": 3
   },
   "file_extension": ".py",
   "mimetype": "text/x-python",
   "name": "python",
   "nbconvert_exporter": "python",
   "pygments_lexer": "ipython3",
   "version": "3.11.1"
  },
  "orig_nbformat": 4
 },
 "nbformat": 4,
 "nbformat_minor": 2
}
